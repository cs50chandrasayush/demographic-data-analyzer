{
 "cells": [
  {
   "cell_type": "code",
   "execution_count": 1,
   "id": "5829a779-5385-4422-80da-dd7a9f74e1fb",
   "metadata": {},
   "outputs": [],
   "source": [
    "import pandas as pd"
   ]
  },
  {
   "cell_type": "code",
   "execution_count": 4,
   "id": "acf7f175-7a39-4688-b7dc-86c49960c14b",
   "metadata": {},
   "outputs": [],
   "source": [
    "df = pd.read_csv(r\"adult.data.csv\", header=None)"
   ]
  },
  {
   "cell_type": "code",
   "execution_count": 5,
   "id": "75dfa9c7-a497-4ebd-9086-377bc9c75333",
   "metadata": {},
   "outputs": [],
   "source": [
    "columns_name = ['age', 'workclass', 'fnlwgt', 'education', 'education-num',\n",
    "                'marital-status', 'occupation', 'relationship', 'race', 'sex',\n",
    "                'capital-gain', 'capital-loss', 'hours-per-week', 'native-country', 'salary']\n",
    "df.columns = columns_name"
   ]
  },
  {
   "cell_type": "code",
   "execution_count": 6,
   "id": "1c7a50cc-f746-4a29-a501-e481df6d5920",
   "metadata": {},
   "outputs": [
    {
     "name": "stderr",
     "output_type": "stream",
     "text": [
      "C:\\Users\\Administrator\\AppData\\Local\\Temp\\ipykernel_16116\\242626680.py:1: FutureWarning: DataFrame.applymap has been deprecated. Use DataFrame.map instead.\n",
      "  df = df.applymap(lambda x: x.strip() if isinstance(x, str) else x)\n"
     ]
    }
   ],
   "source": [
    "df = df.applymap(lambda x: x.strip() if isinstance(x, str) else x)"
   ]
  },
  {
   "cell_type": "code",
   "execution_count": 7,
   "id": "fe70bc19-21fe-45a7-b33c-b21760f29e95",
   "metadata": {},
   "outputs": [],
   "source": [
    "df.replace('?', pd.NA, inplace=True)\n"
   ]
  },
  {
   "cell_type": "code",
   "execution_count": 8,
   "id": "ba65aa71-b956-4a8d-9cbe-2ed44cbc370a",
   "metadata": {},
   "outputs": [],
   "source": [
    "df['workclass'].fillna(df['workclass'].mode()[0], inplace=True)\n",
    "df['occupation'].fillna(df['occupation'].mode()[0], inplace=True)\n",
    "df['native-country'].fillna(df['native-country'].mode()[0], inplace=True)"
   ]
  },
  {
   "cell_type": "code",
   "execution_count": 9,
   "id": "2070da38-e045-4b79-8619-13b735572bd8",
   "metadata": {},
   "outputs": [],
   "source": [
    "race_count = df['race'].value_counts()"
   ]
  },
  {
   "cell_type": "code",
   "execution_count": 11,
   "id": "a5bfaaf4-261f-42f5-9a06-971ece2b7d1e",
   "metadata": {},
   "outputs": [
    {
     "name": "stdout",
     "output_type": "stream",
     "text": [
      "39.4\n"
     ]
    }
   ],
   "source": [
    "df['age'] = pd.to_numeric(df['age'], errors='coerce') \n",
    "avg_age_men = df[df['sex'] == \"Male\"]['age'].mean()\n",
    "print(round(avg_age_men, 1))"
   ]
  },
  {
   "cell_type": "code",
   "execution_count": 12,
   "id": "a37a653d-f227-4213-93ec-d34be60ab2dc",
   "metadata": {},
   "outputs": [
    {
     "name": "stdout",
     "output_type": "stream",
     "text": [
      "16.4 %\n"
     ]
    }
   ],
   "source": [
    "bachelors_count = len(df[df['education'] == 'Bachelors'])\n",
    "total_count = len(df)\n",
    "percentage_bachelors = (bachelors_count / total_count) * 100\n",
    "print(round(percentage_bachelors, 1), '%')"
   ]
  },
  {
   "cell_type": "code",
   "execution_count": 13,
   "id": "11ae7ef6-b0a4-4abf-bc1d-dd0e93d7a407",
   "metadata": {},
   "outputs": [
    {
     "name": "stdout",
     "output_type": "stream",
     "text": [
      "46.5 %\n"
     ]
    }
   ],
   "source": [
    "advanced_edu = df['education'].isin(['Bachelors', 'Masters', 'Doctorate'])\n",
    "higher_edu = df[advanced_edu]\n",
    "rich_edu = higher_edu[higher_edu['salary'] == '>50K']\n",
    "higher_education_rich = (len(rich_edu) / len(higher_edu)) * 100\n",
    "print(round(higher_education_rich, 1), '%')"
   ]
  },
  {
   "cell_type": "code",
   "execution_count": 14,
   "id": "9d659ef8-654b-4107-b6a3-132afa822042",
   "metadata": {},
   "outputs": [
    {
     "name": "stdout",
     "output_type": "stream",
     "text": [
      "17.4 %\n"
     ]
    }
   ],
   "source": [
    "non_advanced_edu = ~df['education'].isin(['Bachelors', 'Masters', 'Doctorate'])\n",
    "non_higher_edu = df[non_advanced_edu]\n",
    "rich_non_edu = non_higher_edu[non_higher_edu['salary'] == '>50K']\n",
    "lower_education_rich = (len(rich_non_edu) / len(non_higher_edu)) * 100\n",
    "print(round(lower_education_rich, 1), '%')"
   ]
  },
  {
   "cell_type": "code",
   "execution_count": 15,
   "id": "c0514753-865f-4123-b2a1-2a66ffc366ec",
   "metadata": {},
   "outputs": [
    {
     "name": "stdout",
     "output_type": "stream",
     "text": [
      "Min work time: 1 hours/week\n"
     ]
    }
   ],
   "source": [
    "min_hour = df['hours-per-week'].min()\n",
    "print(f\"Min work time: {min_hour} hours/week\")"
   ]
  },
  {
   "cell_type": "code",
   "execution_count": 16,
   "id": "28b3c4ad-391b-4f5c-94ae-95d4ae34ee3d",
   "metadata": {},
   "outputs": [
    {
     "name": "stdout",
     "output_type": "stream",
     "text": [
      "Percentage of rich among those who work fewest hours: 10.0%\n"
     ]
    }
   ],
   "source": [
    "rich_min_worker = df[df['hours-per-week'] == min_hour]\n",
    "rich_min_worker_50k = rich_min_worker[rich_min_worker['salary'] == '>50K']\n",
    "rich_percentage = (len(rich_min_worker_50k) / len(rich_min_worker)) * 100\n",
    "print(f\"Percentage of rich among those who work fewest hours: {round(rich_percentage, 1)}%\")"
   ]
  },
  {
   "cell_type": "code",
   "execution_count": 17,
   "id": "a7ff4b23-eba5-4687-a66f-d26373b6f44a",
   "metadata": {},
   "outputs": [
    {
     "name": "stdout",
     "output_type": "stream",
     "text": [
      "Country with highest percentage of rich: Iran\n",
      "Highest percentage of rich people in country: 41.9%\n"
     ]
    }
   ],
   "source": [
    "rich_country = df[df['salary'] == '>50K']['native-country'].value_counts()\n",
    "total_country = df['native-country'].value_counts()\n",
    "percentage_by_country = (rich_country / total_country) * 100\n",
    "highest_earning_country = percentage_by_country.idxmax()\n",
    "highest_earning_country_percentage = percentage_by_country.max()\n",
    "print(f\"Country with highest percentage of rich: {highest_earning_country}\")\n",
    "print(f\"Highest percentage of rich people in country: {highest_earning_country_percentage:.1f}%\")"
   ]
  },
  {
   "cell_type": "code",
   "execution_count": 18,
   "id": "fb371263-3dd0-44ab-8982-3c648b009bd9",
   "metadata": {},
   "outputs": [
    {
     "name": "stdout",
     "output_type": "stream",
     "text": [
      "Top occupation in India for people earning >50K: Prof-specialty\n"
     ]
    }
   ],
   "source": [
    "indian_rich = df[(df['native-country'] == 'India') & (df['salary'] == '>50K')]\n",
    "rich_occ = indian_rich['occupation'].value_counts()\n",
    "top_IN_occupation = rich_occ.idxmax()\n",
    "print(f\"Top occupation in India for people earning >50K: {top_IN_occupation}\")"
   ]
  }
 ],
 "metadata": {
  "kernelspec": {
   "display_name": "Python 3 (ipykernel)",
   "language": "python",
   "name": "python3"
  },
  "language_info": {
   "codemirror_mode": {
    "name": "ipython",
    "version": 3
   },
   "file_extension": ".py",
   "mimetype": "text/x-python",
   "name": "python",
   "nbconvert_exporter": "python",
   "pygments_lexer": "ipython3",
   "version": "3.11.7"
  }
 },
 "nbformat": 4,
 "nbformat_minor": 5
}
